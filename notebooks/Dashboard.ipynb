{
 "cells": [
  {
   "cell_type": "markdown",
   "metadata": {},
   "source": [
    "# Dashboard notebook to control shared dask cluster "
   ]
  },
  {
   "cell_type": "code",
   "execution_count": 1,
   "metadata": {},
   "outputs": [],
   "source": [
    "# id which system working on:  casper or cheyenne\n",
    "\n",
    "id_system = 'casper'\n",
    "# id_system = 'cheyenne'"
   ]
  },
  {
   "cell_type": "code",
   "execution_count": 2,
   "metadata": {},
   "outputs": [],
   "source": [
    "if id_system == 'cheyenne':\n",
    "    # run on cheyenne\n",
    "    from dask_jobqueue import PBSCluster\n",
    "    from distributed import Client\n",
    "\n",
    "    cluster = PBSCluster(project='P48500028',\n",
    "                         queue='premium',\n",
    "                         walltime='02:00:00')\n",
    "\n",
    "    client = Client(cluster)\n",
    "    display(id_system)\n",
    "\n",
    "#     cluster.scale(4)  # TODO: figure out why we need to scale up to 1 worker to open the bcsd/maurer datasets"
   ]
  },
  {
   "cell_type": "code",
   "execution_count": 3,
   "metadata": {},
   "outputs": [],
   "source": [
    "if id_system == 'casper':\n",
    "    # run on casper\n",
    "    from dask_jobqueue import SLURMCluster\n",
    "    from distributed import Client\n",
    "\n",
    "    cluster = SLURMCluster(project='P48500028',\n",
    "                         walltime='02:00:00',\n",
    "                         cores=2, memory='30 GB')\n",
    "#     cluster = SLURMCluster(project='P48500028',\n",
    "#                          walltime='02:00:00',\n",
    "#                          cores=2, memory='15 GB')\n",
    "    cluster.submit_command = '/usr/local/bin/sbatch'\n",
    "    cluster.cancel_command = '/usr/local/bin/scancel'\n",
    "    client = Client(cluster)"
   ]
  },
  {
   "cell_type": "code",
   "execution_count": 4,
   "metadata": {},
   "outputs": [
    {
     "data": {
      "application/vnd.jupyter.widget-view+json": {
       "model_id": "c94608e9115544da84d4c89a9f33c437",
       "version_major": 2,
       "version_minor": 0
      },
      "text/plain": [
       "VBox(children=(HTML(value='<h2>SLURMCluster</h2>'), HBox(children=(HTML(value='\\n<div>\\n  <style scoped>\\n    …"
      ]
     },
     "metadata": {},
     "output_type": "display_data"
    }
   ],
   "source": [
    "cluster.adapt(minimum=2, maximum=100)\n",
    "cluster"
   ]
  },
  {
   "cell_type": "code",
   "execution_count": 5,
   "metadata": {},
   "outputs": [
    {
     "data": {
      "text/html": [
       "<table style=\"border: 2px solid white;\">\n",
       "<tr>\n",
       "<td style=\"vertical-align: top; border: 0px solid white\">\n",
       "<h3>Client</h3>\n",
       "<ul>\n",
       "  <li><b>Scheduler: </b>tcp://10.12.205.22:35683\n",
       "  <li><b>Dashboard: </b><a href='proxy/8787/status' target='_blank'>proxy/8787/status</a>\n",
       "</ul>\n",
       "</td>\n",
       "<td style=\"vertical-align: top; border: 0px solid white\">\n",
       "<h3>Cluster</h3>\n",
       "<ul>\n",
       "  <li><b>Workers: </b>0</li>\n",
       "  <li><b>Cores: </b>0</li>\n",
       "  <li><b>Memory: </b>0 B</li>\n",
       "</ul>\n",
       "</td>\n",
       "</tr>\n",
       "</table>"
      ],
      "text/plain": [
       "<Client: scheduler='tcp://10.12.205.22:35683' processes=0 cores=0>"
      ]
     },
     "execution_count": 5,
     "metadata": {},
     "output_type": "execute_result"
    }
   ],
   "source": [
    "client"
   ]
  },
  {
   "cell_type": "code",
   "execution_count": 6,
   "metadata": {},
   "outputs": [],
   "source": [
    "import json\n",
    "import os\n",
    "with open(os.path.join(os.environ['HOME'], 'scheduler_file.json'), 'w') as f:\n",
    "    json.dump(client.scheduler_info(), f, indent=2)\n"
   ]
  },
  {
   "cell_type": "code",
   "execution_count": 7,
   "metadata": {},
   "outputs": [
    {
     "name": "stdout",
     "output_type": "stream",
     "text": [
      "\n",
      "INSTALLED VERSIONS\n",
      "------------------\n",
      "commit: None\n",
      "python: 3.6.7 | packaged by conda-forge | (default, Jul  2 2019, 02:18:42) \n",
      "[GCC 7.3.0]\n",
      "python-bits: 64\n",
      "OS: Linux\n",
      "OS-release: 3.10.0-693.21.1.el7.x86_64\n",
      "machine: x86_64\n",
      "processor: x86_64\n",
      "byteorder: little\n",
      "LC_ALL: en_US.UTF-8\n",
      "LANG: en_US.UTF-8\n",
      "LOCALE: en_US.UTF-8\n",
      "libhdf5: 1.10.4\n",
      "libnetcdf: 4.6.2\n",
      "\n",
      "xarray: 0.11.3\n",
      "pandas: 0.24.1\n",
      "numpy: 1.16.3\n",
      "scipy: 1.2.1\n",
      "netCDF4: 1.5.1.2\n",
      "pydap: None\n",
      "h5netcdf: 0.7.0\n",
      "h5py: 2.9.0\n",
      "Nio: None\n",
      "zarr: None\n",
      "cftime: 1.0.3.4\n",
      "PseudonetCDF: None\n",
      "rasterio: None\n",
      "cfgrib: None\n",
      "iris: None\n",
      "bottleneck: 1.2.1\n",
      "cyordereddict: None\n",
      "dask: 1.1.2\n",
      "distributed: 1.26.0\n",
      "matplotlib: 2.2.3\n",
      "cartopy: 0.17.0\n",
      "seaborn: 0.9.0\n",
      "setuptools: 40.8.0\n",
      "pip: 19.0.3\n",
      "conda: None\n",
      "pytest: None\n",
      "IPython: 7.3.0\n",
      "sphinx: None\n"
     ]
    }
   ],
   "source": [
    "import xarray as xr\n",
    "xr.show_versions()"
   ]
  },
  {
   "cell_type": "code",
   "execution_count": 8,
   "metadata": {},
   "outputs": [
    {
     "data": {
      "text/plain": [
       "'/glade/scratch/jvano'"
      ]
     },
     "execution_count": 8,
     "metadata": {},
     "output_type": "execute_result"
    },
    {
     "name": "stderr",
     "output_type": "stream",
     "text": [
      "Unknown job_id: 5255650 for worker tcp://10.12.205.28:37330\n",
      "Unknown job_id: 5255653 for worker tcp://10.12.205.28:38395\n",
      "Unknown job_id: 5255654 for worker tcp://10.12.205.28:40913\n",
      "Unknown job_id: 5255704 for worker tcp://10.12.205.27:39907\n",
      "Worker tcp://10.12.205.19:46366 restart in Job 5255606. This can be due to memory issue.\n",
      "Worker tcp://10.12.205.19:39501 restart in Job 5255642. This can be due to memory issue.\n",
      "Worker tcp://10.12.205.30:36939 restart in Job 5255556. This can be due to memory issue.\n",
      "Worker tcp://10.12.205.19:37075 restart in Job 5255605. This can be due to memory issue.\n",
      "Worker tcp://10.12.205.28:35956 restart in Job 5255647. This can be due to memory issue.\n",
      "Worker tcp://10.12.205.30:35552 restart in Job 5255590. This can be due to memory issue.\n",
      "Worker tcp://10.12.205.19:35959 restart in Job 5255644. This can be due to memory issue.\n"
     ]
    }
   ],
   "source": [
    "os.environ['TMPDIR']"
   ]
  },
  {
   "cell_type": "code",
   "execution_count": null,
   "metadata": {},
   "outputs": [],
   "source": []
  }
 ],
 "metadata": {
  "kernelspec": {
   "display_name": "Python [conda env:miniconda-loca]",
   "language": "python",
   "name": "conda-env-miniconda-loca-py"
  },
  "language_info": {
   "codemirror_mode": {
    "name": "ipython",
    "version": 3
   },
   "file_extension": ".py",
   "mimetype": "text/x-python",
   "name": "python",
   "nbconvert_exporter": "python",
   "pygments_lexer": "ipython3",
   "version": "3.6.7"
  }
 },
 "nbformat": 4,
 "nbformat_minor": 4
}
