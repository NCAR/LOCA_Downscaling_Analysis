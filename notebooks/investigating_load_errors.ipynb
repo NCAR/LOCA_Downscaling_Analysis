{
 "cells": [
  {
   "cell_type": "code",
   "execution_count": 1,
   "metadata": {},
   "outputs": [],
   "source": [
    "import xarray as xr\n",
    "import numpy as np\n",
    "import os\n",
    "from glob import glob"
   ]
  },
  {
   "cell_type": "code",
   "execution_count": 2,
   "metadata": {},
   "outputs": [],
   "source": [
    "def check_for_dups(f):\n",
    "    ds = xr.open_dataset(f, decode_cf=False)\n",
    "    \n",
    "    lon = ds['lon'].values\n",
    "    if not np.all(np.diff(lon) > 0):\n",
    "        print(f'problem--> {f}')\n",
    "        print(lon)"
   ]
  },
  {
   "cell_type": "code",
   "execution_count": 3,
   "metadata": {},
   "outputs": [
    {
     "name": "stdout",
     "output_type": "stream",
     "text": [
      "checking /glade/p/ral/hap/common_data/LOCA/vic/CNRM-CM5/vic_output.rcp85.netcdf/8th/*nc\n",
      "problem--> /glade/p/ral/hap/common_data/LOCA/vic/CNRM-CM5/vic_output.rcp85.netcdf/8th/SWE.2021.v0.nc\n",
      "problem--> /glade/p/ral/hap/common_data/LOCA/vic/CNRM-CM5/vic_output.rcp85.netcdf/8th/runoff.2069.v0.nc\n",
      "problem--> /glade/p/ral/hap/common_data/LOCA/vic/CNRM-CM5/vic_output.rcp85.netcdf/8th/ET.2031.v0.nc\n",
      "checking /glade/p/ral/hap/common_data/LOCA/vic/CSIRO-Mk3-6-0/vic_output.rcp85.netcdf/8th/*nc\n",
      "problem--> /glade/p/ral/hap/common_data/LOCA/vic/CSIRO-Mk3-6-0/vic_output.rcp85.netcdf/8th/ET.2056.v0.nc\n",
      "checking /glade/p/ral/hap/common_data/LOCA/vic/FGOALS-g2/vic_output.rcp85.netcdf/8th/*nc\n",
      "problem--> /glade/p/ral/hap/common_data/LOCA/vic/FGOALS-g2/vic_output.rcp85.netcdf/8th/shortwave_in.2093.v0.nc\n",
      "checking /glade/p/ral/hap/common_data/LOCA/vic/GFDL-ESM2M/vic_output.rcp85.netcdf/8th/*nc\n",
      "problem--> /glade/p/ral/hap/common_data/LOCA/vic/GFDL-ESM2M/vic_output.rcp85.netcdf/8th/baseflow.2012.v0.nc\n",
      "checking /glade/p/ral/hap/common_data/LOCA/vic/GFDL-CM3/vic_output.rcp85.netcdf/8th/*nc\n",
      "problem--> /glade/p/ral/hap/common_data/LOCA/vic/GFDL-CM3/vic_output.rcp85.netcdf/8th/shortwave_in.2051.v0.nc\n"
     ]
    }
   ],
   "source": [
    "for model in ['CNRM-CM5', \n",
    "              'CSIRO-Mk3-6-0', \n",
    "              'FGOALS-g2', \n",
    "              'GFDL-ESM2M', \n",
    "              'GFDL-CM3']:\n",
    "    fpath = f'/glade/p/ral/hap/common_data/LOCA/vic/{model}/vic_output.rcp85.netcdf/8th/*nc'\n",
    "    print(f'checking {fpath}')\n",
    "    files = glob(fpath)\n",
    "    _ = list(map(check_for_dups, files))"
   ]
  },
  {
   "cell_type": "code",
   "execution_count": 9,
   "metadata": {},
   "outputs": [
    {
     "name": "stdout",
     "output_type": "stream",
     "text": [
      "problem --> /glade/p/ral/hap/common_data/LOCA/vic/HadGEM2-AO/vic_output.rcp85.netcdf/8th/windspeed.2089.v0.nc\n",
      "problem --> /glade/p/ral/hap/common_data/LOCA/vic/HadGEM2-AO/vic_output.rcp85.netcdf/8th/windspeed.2088.v0.nc\n",
      "problem --> /glade/p/ral/hap/common_data/LOCA/vic/HadGEM2-AO/vic_output.rcp85.netcdf/8th/windspeed.2061.v0.nc\n",
      "problem --> /glade/p/ral/hap/common_data/LOCA/vic/HadGEM2-AO/vic_output.rcp85.netcdf/8th/windspeed.2082.v0.nc\n",
      "problem --> /glade/p/ral/hap/common_data/LOCA/vic/HadGEM2-AO/vic_output.rcp85.netcdf/8th/windspeed.2087.v0.nc\n",
      "problem --> /glade/p/ral/hap/common_data/LOCA/vic/HadGEM2-AO/vic_output.rcp85.netcdf/8th/windspeed.2063.v0.nc\n",
      "problem --> /glade/p/ral/hap/common_data/LOCA/vic/HadGEM2-AO/vic_output.rcp85.netcdf/8th/windspeed.2083.v0.nc\n",
      "problem --> /glade/p/ral/hap/common_data/LOCA/vic/HadGEM2-AO/vic_output.rcp85.netcdf/8th/windspeed.2060.v0.nc\n",
      "problem --> /glade/p/ral/hap/common_data/LOCA/vic/HadGEM2-AO/vic_output.rcp85.netcdf/8th/windspeed.2072.v0.nc\n",
      "problem --> /glade/p/ral/hap/common_data/LOCA/vic/HadGEM2-AO/vic_output.rcp85.netcdf/8th/windspeed.2091.v0.nc\n",
      "problem --> /glade/p/ral/hap/common_data/LOCA/vic/HadGEM2-AO/vic_output.rcp85.netcdf/8th/windspeed.2086.v0.nc\n",
      "problem --> /glade/p/ral/hap/common_data/LOCA/vic/HadGEM2-AO/vic_output.rcp85.netcdf/8th/windspeed.2079.v0.nc\n",
      "problem --> /glade/p/ral/hap/common_data/LOCA/vic/HadGEM2-AO/vic_output.rcp85.netcdf/8th/windspeed.2090.v0.nc\n",
      "problem --> /glade/p/ral/hap/common_data/LOCA/vic/HadGEM2-AO/vic_output.rcp85.netcdf/8th/windspeed.2075.v0.nc\n",
      "problem --> /glade/p/ral/hap/common_data/LOCA/vic/HadGEM2-AO/vic_output.rcp85.netcdf/8th/windspeed.2085.v0.nc\n",
      "problem --> /glade/p/ral/hap/common_data/LOCA/vic/HadGEM2-AO/vic_output.rcp85.netcdf/8th/windspeed.2062.v0.nc\n"
     ]
    }
   ],
   "source": [
    "#problem with 'HadGEM2-AO'\n",
    "\n",
    "fpath = '/glade/p/ral/hap/common_data/LOCA/vic/HadGEM2-AO/vic_output.rcp85.netcdf/8th/*nc'\n",
    "\n",
    "# this errors\n",
    "# ds = xr.open_mfdataset(fpath)\n",
    "\n",
    "files = glob(fpath)\n",
    "\n",
    "# this also errors\n",
    "# ds_list = list(map(xr.open_dataset, files))\n",
    "\n",
    "def try_to_open(f):\n",
    "    try:\n",
    "        return xr.open_dataset(f)\n",
    "    except ValueError:\n",
    "        print(f'problem --> {f}')\n",
    "        \n",
    "ds_list = list(map(try_to_open, files))"
   ]
  },
  {
   "cell_type": "code",
   "execution_count": 10,
   "metadata": {},
   "outputs": [
    {
     "name": "stdout",
     "output_type": "stream",
     "text": [
      "/usr/bin/sh: module: line 1: syntax error: unexpected end of file\n",
      "/usr/bin/sh: error importing function definition for `BASH_FUNC_module'\n",
      "/usr/bin/sh: ml: line 1: syntax error: unexpected end of file\n",
      "/usr/bin/sh: error importing function definition for `BASH_FUNC_ml'\n",
      "netcdf windspeed.2089.v0 {\n",
      "dimensions:\n",
      "\tTime = UNLIMITED ; // (0 currently)\n",
      "\tlon = 464 ;\n",
      "\tlat = 224 ;\n",
      "variables:\n",
      "\tdouble Time(Time) ;\n",
      "\t\tTime:standard_name = \"time\" ;\n",
      "\t\tTime:long_name = \"time\" ;\n",
      "\t\tTime:units = \"days since 1800-01-01\" ;\n",
      "\t\tTime:calendar = \"standard\" ;\n",
      "\t\tTime:axis = \"T\" ;\n",
      "\tdouble lon(lon) ;\n",
      "\t\tlon:standard_name = \"longitude\" ;\n",
      "\t\tlon:long_name = \"longitude\" ;\n",
      "\t\tlon:units = \"degrees_east\" ;\n",
      "\t\tlon:axis = \"X\" ;\n",
      "\tdouble lat(lat) ;\n",
      "\t\tlat:standard_name = \"latitude\" ;\n",
      "\t\tlat:long_name = \"latitude\" ;\n",
      "\t\tlat:units = \"degrees_north\" ;\n",
      "\t\tlat:axis = \"Y\" ;\n",
      "\n",
      "// global attributes:\n",
      "\t\t:CDI = \"Climate Data Interface version 1.9.4 (http://mpimet.mpg.de/cdi)\" ;\n",
      "\t\t:Conventions = \"CF-1.6\" ;\n",
      "\t\t:history = \"Fri Aug 24 16:44:58 2018: cdo -O remapcon,/glade2/scratch2/jhamman/GARD_inputs/newman_ensemble/conus_ens_002.nc /glade/p/ral/hap/common_data/LOCA/vic/HadGEM2-AO/vic_output.rcp85.netcdf/windspeed.2089.v0.nc /glade/p/ral/hap/common_data/LOCA/vic/HadGEM2-AO/vic_output.rcp85.netcdf/8th/windspeed.2089.v0.nc\" ;\n",
      "}\n"
     ]
    }
   ],
   "source": [
    "!ncdump -h /glade/p/ral/hap/common_data/LOCA/vic/HadGEM2-AO/vic_output.rcp85.netcdf/8th/windspeed.2089.v0.nc"
   ]
  },
  {
   "cell_type": "code",
   "execution_count": 3,
   "metadata": {},
   "outputs": [
    {
     "name": "stdout",
     "output_type": "stream",
     "text": [
      "checking /glade/p/ral/hap/common_data/LOCA/vic/CNRM-CM5/vic_output.rcp85.netcdf/8th/*nc\n",
      "checking /glade/p/ral/hap/common_data/LOCA/vic/CSIRO-Mk3-6-0/vic_output.rcp85.netcdf/8th/*nc\n",
      "checking /glade/p/ral/hap/common_data/LOCA/vic/FGOALS-g2/vic_output.rcp85.netcdf/8th/*nc\n",
      "checking /glade/p/ral/hap/common_data/LOCA/vic/GFDL-ESM2M/vic_output.rcp85.netcdf/8th/*nc\n",
      "checking /glade/p/ral/hap/common_data/LOCA/vic/GFDL-CM3/vic_output.rcp85.netcdf/8th/*nc\n"
     ]
    }
   ],
   "source": [
    "for model in ['CNRM-CM5', \n",
    "              'CSIRO-Mk3-6-0', \n",
    "              'FGOALS-g2', \n",
    "              'GFDL-ESM2M', \n",
    "              'GFDL-CM3']:\n",
    "    fpath = f'/glade/p/ral/hap/common_data/LOCA/vic/{model}/vic_output.rcp85.netcdf/8th/*nc'\n",
    "    print(f'checking {fpath}')\n",
    "    files = glob(fpath)\n",
    "    _ = list(map(check_for_dups, files))"
   ]
  },
  {
   "cell_type": "code",
   "execution_count": 4,
   "metadata": {},
   "outputs": [
    {
     "name": "stdout",
     "output_type": "stream",
     "text": [
      "checking /glade/p/ral/hap/common_data/LOCA/vic/HadGEM2-AO/vic_output.rcp85.netcdf/8th/*nc\n",
      "problem--> /glade/p/ral/hap/common_data/LOCA/vic/HadGEM2-AO/vic_output.rcp85.netcdf/8th/baseflow.2023.v0.nc\n",
      "[0. 0. 0. 0. 0. 0. 0. 0. 0. 0. 0. 0. 0. 0. 0. 0. 0. 0. 0. 0. 0. 0. 0. 0.\n",
      " 0. 0. 0. 0. 0. 0. 0. 0. 0. 0. 0. 0. 0. 0. 0. 0. 0. 0. 0. 0. 0. 0. 0. 0.\n",
      " 0. 0. 0. 0. 0. 0. 0. 0. 0. 0. 0. 0. 0. 0. 0. 0. 0. 0. 0. 0. 0. 0. 0. 0.\n",
      " 0. 0. 0. 0. 0. 0. 0. 0. 0. 0. 0. 0. 0. 0. 0. 0. 0. 0. 0. 0. 0. 0. 0. 0.\n",
      " 0. 0. 0. 0. 0. 0. 0. 0. 0. 0. 0. 0. 0. 0. 0. 0. 0. 0. 0. 0. 0. 0. 0. 0.\n",
      " 0. 0. 0. 0. 0. 0. 0. 0. 0. 0. 0. 0. 0. 0. 0. 0. 0. 0. 0. 0. 0. 0. 0. 0.\n",
      " 0. 0. 0. 0. 0. 0. 0. 0. 0. 0. 0. 0. 0. 0. 0. 0. 0. 0. 0. 0. 0. 0. 0. 0.\n",
      " 0. 0. 0. 0. 0. 0. 0. 0. 0. 0. 0. 0. 0. 0. 0. 0. 0. 0. 0. 0. 0. 0. 0. 0.\n",
      " 0. 0. 0. 0. 0. 0. 0. 0. 0. 0. 0. 0. 0. 0. 0. 0. 0. 0. 0. 0. 0. 0. 0. 0.\n",
      " 0. 0. 0. 0. 0. 0. 0. 0. 0. 0. 0. 0. 0. 0. 0. 0. 0. 0. 0. 0. 0. 0. 0. 0.\n",
      " 0. 0. 0. 0. 0. 0. 0. 0. 0. 0. 0. 0. 0. 0. 0. 0. 0. 0. 0. 0. 0. 0. 0. 0.\n",
      " 0. 0. 0. 0. 0. 0. 0. 0. 0. 0. 0. 0. 0. 0. 0. 0. 0. 0. 0. 0. 0. 0. 0. 0.\n",
      " 0. 0. 0. 0. 0. 0. 0. 0. 0. 0. 0. 0. 0. 0. 0. 0. 0. 0. 0. 0. 0. 0. 0. 0.\n",
      " 0. 0. 0. 0. 0. 0. 0. 0. 0. 0. 0. 0. 0. 0. 0. 0. 0. 0. 0. 0. 0. 0. 0. 0.\n",
      " 0. 0. 0. 0. 0. 0. 0. 0. 0. 0. 0. 0. 0. 0. 0. 0. 0. 0. 0. 0. 0. 0. 0. 0.\n",
      " 0. 0. 0. 0. 0. 0. 0. 0. 0. 0. 0. 0. 0. 0. 0. 0. 0. 0. 0. 0. 0. 0. 0. 0.\n",
      " 0. 0. 0. 0. 0. 0. 0. 0. 0. 0. 0. 0. 0. 0. 0. 0. 0. 0. 0. 0. 0. 0. 0. 0.\n",
      " 0. 0. 0. 0. 0. 0. 0. 0. 0. 0. 0. 0. 0. 0. 0. 0. 0. 0. 0. 0. 0. 0. 0. 0.\n",
      " 0. 0. 0. 0. 0. 0. 0. 0. 0. 0. 0. 0. 0. 0. 0. 0. 0. 0. 0. 0. 0. 0. 0. 0.\n",
      " 0. 0. 0. 0. 0. 0. 0. 0.]\n"
     ]
    }
   ],
   "source": [
    "for model in ['HadGEM2-AO']:\n",
    "    fpath = f'/glade/p/ral/hap/common_data/LOCA/vic/{model}/vic_output.rcp85.netcdf/8th/*nc'\n",
    "    print(f'checking {fpath}')\n",
    "    files = glob(fpath)\n",
    "    _ = list(map(check_for_dups, files))"
   ]
  },
  {
   "cell_type": "code",
   "execution_count": 14,
   "metadata": {},
   "outputs": [
    {
     "name": "stdout",
     "output_type": "stream",
     "text": [
      "checking /glade/p/ral/hap/common_data/LOCA/met/CNRM-CM5/8th/historical/r1i1p1/pr/*nc\n",
      "checking /glade/p/ral/hap/common_data/LOCA/met/CSIRO-Mk3-6-0/8th/historical/r1i1p1/pr/*nc\n",
      "checking /glade/p/ral/hap/common_data/LOCA/met/FGOALS-g2/8th/historical/r1i1p1/pr/*nc\n",
      "checking /glade/p/ral/hap/common_data/LOCA/met/GFDL-ESM2M/8th/historical/r1i1p1/pr/*nc\n",
      "checking /glade/p/ral/hap/common_data/LOCA/met/GFDL-CM3/8th/historical/r1i1p1/pr/*nc\n",
      "checking /glade/p/ral/hap/common_data/LOCA/met/CNRM-CM5/8th/historical/r1i1p1/tasmax/*nc\n",
      "checking /glade/p/ral/hap/common_data/LOCA/met/CSIRO-Mk3-6-0/8th/historical/r1i1p1/tasmax/*nc\n",
      "checking /glade/p/ral/hap/common_data/LOCA/met/FGOALS-g2/8th/historical/r1i1p1/tasmax/*nc\n",
      "checking /glade/p/ral/hap/common_data/LOCA/met/GFDL-ESM2M/8th/historical/r1i1p1/tasmax/*nc\n",
      "checking /glade/p/ral/hap/common_data/LOCA/met/GFDL-CM3/8th/historical/r1i1p1/tasmax/*nc\n",
      "checking /glade/p/ral/hap/common_data/LOCA/met/CNRM-CM5/8th/historical/r1i1p1/tasmin/*nc\n",
      "checking /glade/p/ral/hap/common_data/LOCA/met/CSIRO-Mk3-6-0/8th/historical/r1i1p1/tasmin/*nc\n",
      "checking /glade/p/ral/hap/common_data/LOCA/met/FGOALS-g2/8th/historical/r1i1p1/tasmin/*nc\n",
      "checking /glade/p/ral/hap/common_data/LOCA/met/GFDL-ESM2M/8th/historical/r1i1p1/tasmin/*nc\n",
      "checking /glade/p/ral/hap/common_data/LOCA/met/GFDL-CM3/8th/historical/r1i1p1/tasmin/*nc\n",
      "checking /glade/p/ral/hap/common_data/LOCA/met/CNRM-CM5/8th/rcp85/r1i1p1/pr/*nc\n",
      "checking /glade/p/ral/hap/common_data/LOCA/met/CSIRO-Mk3-6-0/8th/rcp85/r1i1p1/pr/*nc\n",
      "checking /glade/p/ral/hap/common_data/LOCA/met/FGOALS-g2/8th/rcp85/r1i1p1/pr/*nc\n",
      "checking /glade/p/ral/hap/common_data/LOCA/met/GFDL-ESM2M/8th/rcp85/r1i1p1/pr/*nc\n",
      "checking /glade/p/ral/hap/common_data/LOCA/met/GFDL-CM3/8th/rcp85/r1i1p1/pr/*nc\n",
      "checking /glade/p/ral/hap/common_data/LOCA/met/CNRM-CM5/8th/rcp85/r1i1p1/tasmax/*nc\n",
      "checking /glade/p/ral/hap/common_data/LOCA/met/CSIRO-Mk3-6-0/8th/rcp85/r1i1p1/tasmax/*nc\n",
      "checking /glade/p/ral/hap/common_data/LOCA/met/FGOALS-g2/8th/rcp85/r1i1p1/tasmax/*nc\n",
      "checking /glade/p/ral/hap/common_data/LOCA/met/GFDL-ESM2M/8th/rcp85/r1i1p1/tasmax/*nc\n",
      "checking /glade/p/ral/hap/common_data/LOCA/met/GFDL-CM3/8th/rcp85/r1i1p1/tasmax/*nc\n",
      "checking /glade/p/ral/hap/common_data/LOCA/met/CNRM-CM5/8th/rcp85/r1i1p1/tasmin/*nc\n",
      "checking /glade/p/ral/hap/common_data/LOCA/met/CSIRO-Mk3-6-0/8th/rcp85/r1i1p1/tasmin/*nc\n",
      "checking /glade/p/ral/hap/common_data/LOCA/met/FGOALS-g2/8th/rcp85/r1i1p1/tasmin/*nc\n",
      "checking /glade/p/ral/hap/common_data/LOCA/met/GFDL-ESM2M/8th/rcp85/r1i1p1/tasmin/*nc\n",
      "checking /glade/p/ral/hap/common_data/LOCA/met/GFDL-CM3/8th/rcp85/r1i1p1/tasmin/*nc\n",
      "checking /glade/p/ral/hap/common_data/LOCA/met/CNRM-CM5/8th/rcp45/r1i1p1/pr/*nc\n",
      "checking /glade/p/ral/hap/common_data/LOCA/met/CSIRO-Mk3-6-0/8th/rcp45/r1i1p1/pr/*nc\n",
      "checking /glade/p/ral/hap/common_data/LOCA/met/FGOALS-g2/8th/rcp45/r1i1p1/pr/*nc\n",
      "checking /glade/p/ral/hap/common_data/LOCA/met/GFDL-ESM2M/8th/rcp45/r1i1p1/pr/*nc\n",
      "checking /glade/p/ral/hap/common_data/LOCA/met/GFDL-CM3/8th/rcp45/r1i1p1/pr/*nc\n",
      "checking /glade/p/ral/hap/common_data/LOCA/met/CNRM-CM5/8th/rcp45/r1i1p1/tasmax/*nc\n",
      "checking /glade/p/ral/hap/common_data/LOCA/met/CSIRO-Mk3-6-0/8th/rcp45/r1i1p1/tasmax/*nc\n",
      "checking /glade/p/ral/hap/common_data/LOCA/met/FGOALS-g2/8th/rcp45/r1i1p1/tasmax/*nc\n",
      "checking /glade/p/ral/hap/common_data/LOCA/met/GFDL-ESM2M/8th/rcp45/r1i1p1/tasmax/*nc\n",
      "checking /glade/p/ral/hap/common_data/LOCA/met/GFDL-CM3/8th/rcp45/r1i1p1/tasmax/*nc\n",
      "checking /glade/p/ral/hap/common_data/LOCA/met/CNRM-CM5/8th/rcp45/r1i1p1/tasmin/*nc\n",
      "checking /glade/p/ral/hap/common_data/LOCA/met/CSIRO-Mk3-6-0/8th/rcp45/r1i1p1/tasmin/*nc\n",
      "checking /glade/p/ral/hap/common_data/LOCA/met/FGOALS-g2/8th/rcp45/r1i1p1/tasmin/*nc\n",
      "checking /glade/p/ral/hap/common_data/LOCA/met/GFDL-ESM2M/8th/rcp45/r1i1p1/tasmin/*nc\n",
      "checking /glade/p/ral/hap/common_data/LOCA/met/GFDL-CM3/8th/rcp45/r1i1p1/tasmin/*nc\n"
     ]
    }
   ],
   "source": [
    "for scen in ['historical', 'rcp85', 'rcp45']:\n",
    "    for var in ['pr', 'tasmax', 'tasmin']:\n",
    "        for model in ['CNRM-CM5', \n",
    "                  'CSIRO-Mk3-6-0', \n",
    "                  'FGOALS-g2', \n",
    "                  'GFDL-ESM2M', \n",
    "                  'GFDL-CM3']:\n",
    "#     fpath = f'/glade/p/ral/hap/common_data/LOCA/met/{model}/vic_output.rcp85.netcdf/8th/*nc'\n",
    "            fpath = f'/glade/p/ral/hap/common_data/LOCA/met/{model}/8th/{scen}/r1i1p1/{var}/*nc'\n",
    "            print(f'checking {fpath}')\n",
    "            files = glob(fpath)\n",
    "            _ = list(map(check_for_dups, files))\n",
    "    "
   ]
  },
  {
   "cell_type": "code",
   "execution_count": null,
   "metadata": {},
   "outputs": [],
   "source": []
  }
 ],
 "metadata": {
  "kernelspec": {
   "display_name": "Python [conda env:loca]",
   "language": "python",
   "name": "conda-env-loca-py"
  },
  "language_info": {
   "codemirror_mode": {
    "name": "ipython",
    "version": 3
   },
   "file_extension": ".py",
   "mimetype": "text/x-python",
   "name": "python",
   "nbconvert_exporter": "python",
   "pygments_lexer": "ipython3",
   "version": "3.6.7"
  }
 },
 "nbformat": 4,
 "nbformat_minor": 2
}
