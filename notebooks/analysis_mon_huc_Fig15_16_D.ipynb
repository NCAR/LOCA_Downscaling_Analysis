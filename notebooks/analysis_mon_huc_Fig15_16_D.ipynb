{
 "cells": [
  {
   "cell_type": "code",
   "execution_count": 1,
   "metadata": {},
   "outputs": [],
   "source": [
    "%matplotlib inline\n",
    "\n",
    "import geopandas\n",
    "import regionmask\n",
    "\n",
    "import pandas as pd\n",
    "import xarray as xr\n",
    "import matplotlib.pyplot as plt\n",
    "import os\n",
    "\n",
    "from loca.data_catalog import load_monthly_cmip_hydro_datasets, resample_monthly_data\n",
    "from loca.utils import calc_change\n",
    "\n",
    "read_cache = True\n",
    "# cache_dir = os.environ['TMPDIR']\n",
    "cache_dir = '/glade/u/home/jvano/scratch/'"
   ]
  },
  {
   "cell_type": "code",
   "execution_count": 2,
   "metadata": {},
   "outputs": [
    {
     "data": {
      "text/html": [
       "<div>\n",
       "<style scoped>\n",
       "    .dataframe tbody tr th:only-of-type {\n",
       "        vertical-align: middle;\n",
       "    }\n",
       "\n",
       "    .dataframe tbody tr th {\n",
       "        vertical-align: top;\n",
       "    }\n",
       "\n",
       "    .dataframe thead th {\n",
       "        text-align: right;\n",
       "    }\n",
       "</style>\n",
       "<table border=\"1\" class=\"dataframe\">\n",
       "  <thead>\n",
       "    <tr style=\"text-align: right;\">\n",
       "      <th></th>\n",
       "      <th>TNMID</th>\n",
       "      <th>METASOURCE</th>\n",
       "      <th>SOURCEDATA</th>\n",
       "      <th>SOURCEORIG</th>\n",
       "      <th>SOURCEFEAT</th>\n",
       "      <th>LOADDATE</th>\n",
       "      <th>GNIS_ID</th>\n",
       "      <th>AREAACRES</th>\n",
       "      <th>AREASQKM</th>\n",
       "      <th>STATES</th>\n",
       "      <th>HUC2</th>\n",
       "      <th>NAME</th>\n",
       "      <th>SHAPE_LENG</th>\n",
       "      <th>SHAPE_AREA</th>\n",
       "      <th>geometry</th>\n",
       "    </tr>\n",
       "  </thead>\n",
       "  <tbody>\n",
       "    <tr>\n",
       "      <th>14</th>\n",
       "      <td>{55B52F2D-76B0-44EA-8BE7-B371E86617AC}</td>\n",
       "      <td>None</td>\n",
       "      <td>None</td>\n",
       "      <td>None</td>\n",
       "      <td>None</td>\n",
       "      <td>20170417094157</td>\n",
       "      <td>2730145</td>\n",
       "      <td>72542421.23</td>\n",
       "      <td>293569.02</td>\n",
       "      <td>AZ,CO,NM,UT,WY</td>\n",
       "      <td>14</td>\n",
       "      <td>Upper Colorado Region</td>\n",
       "      <td>44.6099267782046</td>\n",
       "      <td>30.6129409366829</td>\n",
       "      <td>POLYGON ((-110.0380510448476 43.45086882422225...</td>\n",
       "    </tr>\n",
       "    <tr>\n",
       "      <th>15</th>\n",
       "      <td>{5A8D623A-5571-4976-A98E-019A7A94E228}</td>\n",
       "      <td>None</td>\n",
       "      <td>None</td>\n",
       "      <td>None</td>\n",
       "      <td>None</td>\n",
       "      <td>20161215130801</td>\n",
       "      <td>2730146</td>\n",
       "      <td>104858933.69</td>\n",
       "      <td>424349.42</td>\n",
       "      <td>AZ,CA,MX,NM,NV,UT</td>\n",
       "      <td>15</td>\n",
       "      <td>Lower Colorado Region</td>\n",
       "      <td>59.1535619390035</td>\n",
       "      <td>41.4316896087394</td>\n",
       "      <td>POLYGON ((-115.0786049495237 39.3005439327477,...</td>\n",
       "    </tr>\n",
       "    <tr>\n",
       "      <th>16</th>\n",
       "      <td>{9567C98F-F09E-4C52-B2ED-C770AC69261B}</td>\n",
       "      <td>None</td>\n",
       "      <td>None</td>\n",
       "      <td>None</td>\n",
       "      <td>None</td>\n",
       "      <td>20170201025311</td>\n",
       "      <td>2730147</td>\n",
       "      <td>90699698.29</td>\n",
       "      <td>367048.98</td>\n",
       "      <td>CA,ID,NV,OR,UT,WY</td>\n",
       "      <td>16</td>\n",
       "      <td>Great Basin Region</td>\n",
       "      <td>68.0357227961479</td>\n",
       "      <td>38.5766697126077</td>\n",
       "      <td>POLYGON ((-111.6462335631847 42.85186860015205...</td>\n",
       "    </tr>\n",
       "    <tr>\n",
       "      <th>17</th>\n",
       "      <td>{31AE82B1-B1F0-4839-A09B-1836570B4D37}</td>\n",
       "      <td>None</td>\n",
       "      <td>None</td>\n",
       "      <td>None</td>\n",
       "      <td>None</td>\n",
       "      <td>20170830145326</td>\n",
       "      <td>2730148</td>\n",
       "      <td>206707668.72</td>\n",
       "      <td>836517</td>\n",
       "      <td>CA,CN,ID,MT,NV,OR,UT,WA,WY</td>\n",
       "      <td>17</td>\n",
       "      <td>Pacific Northwest Region</td>\n",
       "      <td>92.9588493772967</td>\n",
       "      <td>97.3040327044908</td>\n",
       "      <td>POLYGON ((-118.981208715341 52.87765391479832,...</td>\n",
       "    </tr>\n",
       "    <tr>\n",
       "      <th>18</th>\n",
       "      <td>{D924BD6E-507C-4E5B-A86C-DDDDE00752A5}</td>\n",
       "      <td>None</td>\n",
       "      <td>None</td>\n",
       "      <td>None</td>\n",
       "      <td>None</td>\n",
       "      <td>20170201025214</td>\n",
       "      <td>2730149</td>\n",
       "      <td>107893988.58</td>\n",
       "      <td>436631.87</td>\n",
       "      <td>CA,MX,NV,OR</td>\n",
       "      <td>18</td>\n",
       "      <td>California Region</td>\n",
       "      <td>61.1955899240585</td>\n",
       "      <td>44.5001629861605</td>\n",
       "      <td>(POLYGON ((-121.6369005216355 43.3402864254355...</td>\n",
       "    </tr>\n",
       "  </tbody>\n",
       "</table>\n",
       "</div>"
      ],
      "text/plain": [
       "                                     TNMID METASOURCE SOURCEDATA SOURCEORIG  \\\n",
       "14  {55B52F2D-76B0-44EA-8BE7-B371E86617AC}       None       None       None   \n",
       "15  {5A8D623A-5571-4976-A98E-019A7A94E228}       None       None       None   \n",
       "16  {9567C98F-F09E-4C52-B2ED-C770AC69261B}       None       None       None   \n",
       "17  {31AE82B1-B1F0-4839-A09B-1836570B4D37}       None       None       None   \n",
       "18  {D924BD6E-507C-4E5B-A86C-DDDDE00752A5}       None       None       None   \n",
       "\n",
       "   SOURCEFEAT        LOADDATE  GNIS_ID     AREAACRES   AREASQKM  \\\n",
       "14       None  20170417094157  2730145   72542421.23  293569.02   \n",
       "15       None  20161215130801  2730146  104858933.69  424349.42   \n",
       "16       None  20170201025311  2730147   90699698.29  367048.98   \n",
       "17       None  20170830145326  2730148  206707668.72     836517   \n",
       "18       None  20170201025214  2730149  107893988.58  436631.87   \n",
       "\n",
       "                        STATES HUC2                      NAME  \\\n",
       "14              AZ,CO,NM,UT,WY   14     Upper Colorado Region   \n",
       "15           AZ,CA,MX,NM,NV,UT   15     Lower Colorado Region   \n",
       "16           CA,ID,NV,OR,UT,WY   16        Great Basin Region   \n",
       "17  CA,CN,ID,MT,NV,OR,UT,WA,WY   17  Pacific Northwest Region   \n",
       "18                 CA,MX,NV,OR   18         California Region   \n",
       "\n",
       "          SHAPE_LENG        SHAPE_AREA  \\\n",
       "14  44.6099267782046  30.6129409366829   \n",
       "15  59.1535619390035  41.4316896087394   \n",
       "16  68.0357227961479  38.5766697126077   \n",
       "17  92.9588493772967  97.3040327044908   \n",
       "18  61.1955899240585  44.5001629861605   \n",
       "\n",
       "                                             geometry  \n",
       "14  POLYGON ((-110.0380510448476 43.45086882422225...  \n",
       "15  POLYGON ((-115.0786049495237 39.3005439327477,...  \n",
       "16  POLYGON ((-111.6462335631847 42.85186860015205...  \n",
       "17  POLYGON ((-118.981208715341 52.87765391479832,...  \n",
       "18  (POLYGON ((-121.6369005216355 43.3402864254355...  "
      ]
     },
     "execution_count": 2,
     "metadata": {},
     "output_type": "execute_result"
    }
   ],
   "source": [
    "# create GeoDataFrame with all HUC2 elements\n",
    "# huc 2 to 4, should WBDHU2.shp\n",
    "dfs = []\n",
    "hucs = list(range(1, 19))\n",
    "for i in hucs:\n",
    "    huc2_file = f'/glade/u/home/jhamman/projects/storylines/data/gis/WBD_{i:02d}_Shape/Shape/WBDHU2.shp' #TODO move file to repository\n",
    "    gdf = geopandas.GeoDataFrame.from_file(huc2_file)\n",
    "    dfs.append(gdf)\n",
    "gdf = pd.concat(dfs)\n",
    "gdf.index = hucs\n",
    "gdf.tail()"
   ]
  },
  {
   "cell_type": "code",
   "execution_count": 3,
   "metadata": {},
   "outputs": [
    {
     "data": {
      "image/png": "[encoded data removed]",
      "text/plain": [
       "<Figure size 864x576 with 1 Axes>"
      ]
     },
     "metadata": {
      "needs_background": "light"
     },
     "output_type": "display_data"
    }
   ],
   "source": [
    "plt.figure(figsize=(12, 8))\n",
    "# Create a Regions object for masking\n",
    "huc_mask = regionmask.Regions_cls('USmask', range(len(gdf)), gdf.HUC2.values, list(map(str, hucs)), gdf.geometry.values)\n",
    "# https://regionmask.readthedocs.io/en/stable/generated/regionmask.Regions_cls.html\n",
    "huc_mask.plot(label='name')\n",
    "\n",
    "plt.savefig('hucs.png', dpi=300)\n",
    "# to save figure, do shift and two figure click... though it'd be nice to do this with plt.savefig(), though as it isn't plotted in matplotlib, unsure how to do this"
   ]
  },
  {
   "cell_type": "code",
   "execution_count": 4,
   "metadata": {},
   "outputs": [
    {
     "data": {
      "text/html": [
       "<table style=\"border: 2px solid white;\">\n",
       "<tr>\n",
       "<td style=\"vertical-align: top; border: 0px solid white\">\n",
       "<h3>Client</h3>\n",
       "<ul>\n",
       "  <li><b>Scheduler: </b>tcp://128.117.181.211:42644\n",
       "  <li><b>Dashboard: </b><a href='proxy/8787/status' target='_blank'>proxy/8787/status</a>\n",
       "</ul>\n",
       "</td>\n",
       "<td style=\"vertical-align: top; border: 0px solid white\">\n",
       "<h3>Cluster</h3>\n",
       "<ul>\n",
       "  <li><b>Workers: </b>2</li>\n",
       "  <li><b>Cores: </b>4</li>\n",
       "  <li><b>Memory: </b>60.00 GB</li>\n",
       "</ul>\n",
       "</td>\n",
       "</tr>\n",
       "</table>"
      ],
      "text/plain": [
       "<Client: scheduler='tcp://128.117.181.211:42644' processes=2 cores=4>"
      ]
     },
     "execution_count": 4,
     "metadata": {},
     "output_type": "execute_result"
    }
   ],
   "source": [
    "from dask.distributed import Client\n",
    "client = Client(scheduler_file=os.path.join(os.environ['HOME'], 'scheduler_file.json'))\n",
    "client"
   ]
  },
  {
   "cell_type": "code",
   "execution_count": 5,
   "metadata": {},
   "outputs": [],
   "source": [
    "read_cache = True\n",
    "obs_data_maurer = {}\n",
    "obs_data_livneh = {}\n",
    "hist_data_all = {}\n",
    "rcp4_data_all = {}\n",
    "rcp8_data_all = {}\n",
    "if read_cache:\n",
    "    for key in ['loca', 'bcsd']:\n",
    "        hist_data_all[key] = xr.open_mfdataset(\n",
    "            os.path.join(cache_dir, f'monthly_cmip_hydro_hist.{key}_*.nc'),\n",
    "            concat_dim='gcm', chunks={'time': 72})\n",
    "        rcp4_data_all[key] = xr.open_mfdataset(\n",
    "            os.path.join(cache_dir, f'monthly_cmip_hydro_rcp4.{key}_*.nc'),\n",
    "            concat_dim='gcm', chunks={'time': 72})\n",
    "        rcp8_data_all[key] = xr.open_mfdataset(\n",
    "            os.path.join(cache_dir, f'monthly_cmip_hydro_rcp8.{key}_*.nc'),\n",
    "            concat_dim='gcm', chunks={'time': 72})\n",
    "    obs_data_maurer = xr.open_mfdataset(os.path.join(cache_dir, 'monthly_hydro_obs.maurer.nc'),chunks={'time': 72})\n",
    "    obs_data_livneh = xr.open_mfdataset(os.path.join(cache_dir, 'monthly_hydro_obs.livneh.nc'),chunks={'time': 72})"
   ]
  },
  {
   "cell_type": "code",
   "execution_count": 6,
   "metadata": {},
   "outputs": [],
   "source": [
    "write_mask = False  #writing the mask takes about 20 mins for each key, value currently stashed bcsd (but easy to rewrite)\n",
    "\n",
    "if write_mask:\n",
    "    for key in ['loca']:\n",
    "        monthly = hist_data_all[key].groupby('time.month').mean('time').load()  # TODO test (streamlined)\n",
    "        huc_mask = regionmask.Regions_cls('USmask', range(len(gdf)), gdf.HUC2.values, list(map(str, hucs)), gdf.geometry.values)  # TODO test (streamlined)\n",
    "        mask = huc_mask.mask(monthly, wrap_lon=False)\n",
    "        display (mask)\n",
    "        mask.plot()\n",
    "        mask.load().to_netcdf(os.path.join(cache_dir, f'mask.{key}.nc'))"
   ]
  },
  {
   "cell_type": "code",
   "execution_count": 7,
   "metadata": {},
   "outputs": [
    {
     "data": {
      "text/plain": [
       "xarray.core.dataset.Dataset"
      ]
     },
     "execution_count": 7,
     "metadata": {},
     "output_type": "execute_result"
    }
   ],
   "source": [
    "type(hist_data_all['loca'])"
   ]
  },
  {
   "cell_type": "code",
   "execution_count": 8,
   "metadata": {},
   "outputs": [],
   "source": [
    "#subset data so covers\n",
    "hist_epoch = slice('1970-01-01', '1999-12-31')\n",
    "futr_epoch = slice('2070-01-01', '2099-12-31')\n",
    "\n",
    "obs_data = { \"loca\":obs_data_livneh.sel(time=hist_epoch), \"bcsd\":obs_data_maurer.sel(time=hist_epoch)}\n",
    "hist_data = { \"loca\":hist_data_all['loca'].sel(time=hist_epoch), \"bcsd\":hist_data_all['bcsd'].sel(time=hist_epoch)}\n",
    "rcp4_data = { \"loca\":rcp4_data_all['loca'].sel(time=futr_epoch), \"bcsd\":rcp4_data_all['bcsd'].sel(time=futr_epoch)}\n",
    "rcp8_data = { \"loca\":rcp8_data_all['loca'].sel(time=futr_epoch), \"bcsd\":rcp8_data_all['bcsd'].sel(time=futr_epoch)}"
   ]
  },
  {
   "cell_type": "code",
   "execution_count": 9,
   "metadata": {},
   "outputs": [
    {
     "data": {
      "text/plain": [
       "<xarray.Dataset>\n",
       "Dimensions:       (gcm: 23, month: 12, region: 18)\n",
       "Coordinates:\n",
       "  * gcm           (gcm) <U14 'ACCESS1-0' 'CESM1-BGC' ... 'bcc-csm1-1' 'inmcm4'\n",
       "  * month         (month) int64 1 2 3 4 5 6 7 8 9 10 11 12\n",
       "  * region        (region) float64 0.0 1.0 2.0 3.0 4.0 ... 14.0 15.0 16.0 17.0\n",
       "Data variables:\n",
       "    ET            (region, month, gcm) float32 10.4842005 10.54254 ... 14.495675\n",
       "    total_runoff  (region, month, gcm) float32 30.533447 29.655912 ... 21.706007\n",
       "    SWE           (region, month, gcm) float32 100.36867 108.68096 ... 19.970484"
      ]
     },
     "metadata": {},
     "output_type": "display_data"
    },
    {
     "data": {
      "text/plain": [
       "<xarray.Dataset>\n",
       "Dimensions:       (gcm: 23, month: 12, region: 18)\n",
       "Coordinates:\n",
       "  * gcm           (gcm) <U14 'ACCESS1-0' 'CESM1-BGC' ... 'bcc-csm1-1' 'inmcm4'\n",
       "  * month         (month) int64 1 2 3 4 5 6 7 8 9 10 11 12\n",
       "  * region        (region) float64 0.0 1.0 2.0 3.0 4.0 ... 14.0 15.0 16.0 17.0\n",
       "Data variables:\n",
       "    ET            (region, month, gcm) float32 18.28955 18.822092 ... 12.491267\n",
       "    total_runoff  (region, month, gcm) float32 39.376987 40.965607 ... 25.65685\n",
       "    SWE           (region, month, gcm) float32 47.994576 49.834103 ... 5.536129"
      ]
     },
     "metadata": {},
     "output_type": "display_data"
    }
   ],
   "source": [
    "#note: increased memory to run this on casper\n",
    "\n",
    "hydro_var = 'total_runoff'\n",
    "\n",
    "monthly = {}\n",
    "data_by_huc_hist = {}\n",
    "# data_by_huc_ens_mean = {}\n",
    "\n",
    "for key in ['loca', 'bcsd']:\n",
    "    monthly[key] = hist_data[key].groupby('time.month').mean('time').load()\n",
    "    mask = xr.open_dataarray(os.path.join(cache_dir, f'mask.{key}.nc'))\n",
    "    # Group data by huc\n",
    "    data_by_huc_hist[key] = monthly[key].groupby(mask).mean('stacked_lat_lon')\n",
    "    display(data_by_huc_hist[key])\n",
    "#     data_by_huc_ens_mean[key] = data_by_huc[key][hydro_var].mean('gcm')\n",
    "#     display(data_by_huc_ens_mean[key]) "
   ]
  },
  {
   "cell_type": "code",
   "execution_count": 10,
   "metadata": {},
   "outputs": [
    {
     "data": {
      "text/plain": [
       "<xarray.Dataset>\n",
       "Dimensions:       (month: 12, region: 18)\n",
       "Coordinates:\n",
       "  * month         (month) int64 1 2 3 4 5 6 7 8 9 10 11 12\n",
       "  * region        (region) float64 0.0 1.0 2.0 3.0 4.0 ... 14.0 15.0 16.0 17.0\n",
       "Data variables:\n",
       "    ET            (region, month) float32 10.6566925 12.552088 ... 15.111202\n",
       "    total_runoff  (region, month) float32 31.94435 28.367744 ... 20.886364\n",
       "    SWE           (region, month) float32 101.4701 149.53241 ... 21.976925"
      ]
     },
     "metadata": {},
     "output_type": "display_data"
    },
    {
     "data": {
      "text/plain": [
       "<xarray.Dataset>\n",
       "Dimensions:       (month: 12, region: 18)\n",
       "Coordinates:\n",
       "  * month         (month) int64 1 2 3 4 5 6 7 8 9 10 11 12\n",
       "  * region        (region) float64 0.0 1.0 2.0 3.0 4.0 ... 14.0 15.0 16.0 17.0\n",
       "Data variables:\n",
       "    ET            (region, month) float32 18.25132 18.984089 ... 11.989445\n",
       "    total_runoff  (region, month) float32 38.73553 35.22101 ... 25.668928\n",
       "    SWE           (region, month) float32 52.826176 96.0399 ... 10.287737"
      ]
     },
     "metadata": {},
     "output_type": "display_data"
    }
   ],
   "source": [
    "# for observations\n",
    "monthly = {}\n",
    "data_by_huc_obs = {}\n",
    "for key in ['loca', 'bcsd']:\n",
    "    monthly[key] = obs_data[key].groupby('time.month').mean('time').load()\n",
    "    mask = xr.open_dataarray(os.path.join(cache_dir, f'mask.{key}.nc'))\n",
    "    data_by_huc_obs[key] = monthly[key].groupby(mask).mean('stacked_lat_lon')\n",
    "    display(data_by_huc_obs[key])"
   ]
  },
  {
   "cell_type": "code",
   "execution_count": 11,
   "metadata": {},
   "outputs": [],
   "source": [
    "#  same as hist (above), but for future \n",
    "monthly = {}\n",
    "data_by_huc_rcp4 = {}\n",
    "for key in ['loca', 'bcsd']:\n",
    "    monthly[key] = rcp4_data[key].groupby('time.month').mean('time').load()\n",
    "    mask = xr.open_dataarray(os.path.join(cache_dir, f'mask.{key}.nc'))\n",
    "    data_by_huc_rcp4[key] = monthly[key].groupby(mask).mean('stacked_lat_lon')  # Group data by huc"
   ]
  },
  {
   "cell_type": "code",
   "execution_count": 12,
   "metadata": {},
   "outputs": [],
   "source": [
    "monthly = {}\n",
    "data_by_huc_rcp8 = {}\n",
    "for key in ['loca', 'bcsd']:\n",
    "    monthly[key] = rcp8_data[key].groupby('time.month').mean('time').load()\n",
    "    mask = xr.open_dataarray(os.path.join(cache_dir, f'mask.{key}.nc'))\n",
    "    data_by_huc_rcp8[key] = monthly[key].groupby(mask).mean('stacked_lat_lon')     # Group data by huc"
   ]
  },
  {
   "cell_type": "code",
   "execution_count": 14,
   "metadata": {},
   "outputs": [],
   "source": [
    "# i = 1\n",
    "# region = i\n",
    "\n",
    "# plt.plot(data_by_huc['bcsd']['total_runoff'].isel(region=i).mean('gcm'))\n",
    "# plt.plot(data_by_huc['bcsd']['ET'].isel(region=i).mean('gcm'))\n",
    "# plt.plot(data_by_huc['bcsd']['SWE'].isel(region=i).mean('gcm'))\n",
    "\n",
    "# data_by_huc['bcsd']['total_runoff'].isel(region=0).mean('gcm').plot()\n",
    "# display (lookup.index)"
   ]
  },
  {
   "cell_type": "code",
   "execution_count": 13,
   "metadata": {},
   "outputs": [],
   "source": [
    "def joint_ax_lims(axes):\n",
    "    low, high = axes[0].get_ylim()\n",
    "    for ax in axes[1:]:\n",
    "        low2, high2 = ax.get_ylim()\n",
    "        low = min(low, low2)\n",
    "        high = max(high, high2)\n",
    "    for ax in axes:\n",
    "        ax.set_ylim(low, high)\n",
    "        \n",
    "\n",
    "def add_month_lables(axes):\n",
    "    for ax in axes:\n",
    "        ax.set_xticks(list(range(0, 12)))\n",
    "        ax.set_xticklabels(months)"
   ]
  },
  {
   "cell_type": "code",
   "execution_count": null,
   "metadata": {},
   "outputs": [],
   "source": [
    "# HUC\n",
    "\n",
    "\n",
    "region = [2, 4, 8, 10, 13, 16];  #region + 1 = huc\n",
    "figname = 'Fig16'\n",
    "\n",
    "# region = [0, 1, 2, 3, 4, 5];  #region + 1 = huc\n",
    "# figname = 'AppendixD1'\n",
    "\n",
    "# region = [6, 7, 8, 9, 10, 11];  #region + 1 = huc\n",
    "# figname = 'AppendixD2'\n",
    "\n",
    "# region = [12, 13, 14, 15, 16, 17];  #region + 1 = huc\n",
    "# figname = 'AppendixD3'\n",
    "\n",
    "\n",
    "months = ['J', 'F', 'M', 'A', 'M', 'J', 'J', 'A', 'S', 'O', 'N', 'D']\n",
    "\n",
    "fig, axes = plt.subplots(ncols=3, nrows=len(region), sharex=True, sharey=False, figsize=(15, len(region)*3.5), squeeze=True)\n",
    "\n",
    "\n",
    "#TODO change units so right (e.g., maf)\n",
    "\n",
    "lookup = gdf\n",
    "staid = []\n",
    "\n",
    "loca_color = \"blue\"\n",
    "bcsd_color = \"orange\"\n",
    "\n",
    "categoryx = ['hist', 'rcp8', 'diff']\n",
    "names = {'hist': \"Historical\", 'rcp8': \"Future RCP 8.5\", 'diff': \"Future - Historical\"} \n",
    "maintitle = {'total_runoff': \"Runoff (mm)\", 'ET': \"Evapotransipration (mm)\", 'SWE': \"SWE (mm)\"}\n",
    "\n",
    "for i, reg in enumerate(region):\n",
    "    for j, scen in enumerate(categoryx):\n",
    "        print(f'reading {scen}')\n",
    "        plt.sca(axes[i, j])  #TODO fix \"index out of bounds\"\n",
    "\n",
    "        if 'rcp4' in scen:\n",
    "            bcsdlineh = plt.plot(data_by_huc_hist['bcsd'][hydro_var].isel(region=reg).mean('gcm'), color=bcsd_color, lw=3, alpha=0.5) \n",
    "            bcsdline = plt.plot(data_by_huc_rcp4['bcsd'][hydro_var].isel(region=reg).mean('gcm'), color=bcsd_color, lw=3, ls=\"--\") \n",
    "            localineh = plt.plot(data_by_huc_hist['loca'][hydro_var].isel(region=reg).mean('gcm'), color=loca_color, lw=3, alpha=0.5)\n",
    "            localine = plt.plot(data_by_huc_rcp4['loca'][hydro_var].isel(region=reg).mean('gcm'), color=loca_color, lw=3, ls=\"--\")\n",
    "            if i == 0:\n",
    "                lineorder = ['bcsd hist', 'bcsd rcp', 'loca hist', 'loca rcp']\n",
    "                plt.legend(lineorder, fontsize=12) \n",
    "            \n",
    "        if 'rcp8' in scen:\n",
    "            bcsdlineh = plt.plot(data_by_huc_hist['bcsd'][hydro_var].isel(region=reg).mean('gcm'), color=bcsd_color, lw=3, alpha=0.5) \n",
    "            bcsdline = plt.plot(data_by_huc_rcp8['bcsd'][hydro_var].isel(region=reg).mean('gcm'), color=bcsd_color, lw=3, ls=\"--\") \n",
    "            localineh = plt.plot(data_by_huc_hist['loca'][hydro_var].isel(region=reg).mean('gcm'), color=loca_color, lw=3, alpha=0.5)\n",
    "            localine = plt.plot(data_by_huc_rcp8['loca'][hydro_var].isel(region=reg).mean('gcm'), color=loca_color, lw=3, ls=\"--\")\n",
    "            if i == 0:\n",
    "                lineorder = ['BCSD hist', 'BCSD RCP', 'LOCA hist', 'LOCA RCP']\n",
    "                plt.legend(lineorder, fontsize=12) \n",
    "                \n",
    "        if scen == 'diff':\n",
    "            diffbcsd = data_by_huc_rcp8['bcsd'][hydro_var].isel(region=reg).mean('gcm') - data_by_huc_hist['bcsd'][hydro_var].isel(region=reg).mean('gcm') \n",
    "            plt.plot(diffbcsd, color = bcsd_color, lw=4)\n",
    "            \n",
    "            diffloca = data_by_huc_rcp8['loca'][hydro_var].isel(region=reg).mean('gcm') - data_by_huc_hist['loca'][hydro_var].isel(region=reg).mean('gcm')\n",
    "            plt.plot(diffloca, color = loca_color, lw=4)\n",
    "            plt.axhline(y=0, color='black')\n",
    "\n",
    "            if i == 0:\n",
    "                lineorder = ['BCSD', 'LOCA']\n",
    "                plt.legend(lineorder, fontsize=12) \n",
    "\n",
    "        if scen == 'hist':  \n",
    "            bcsdobs = plt.plot(data_by_huc_obs['bcsd'][hydro_var].isel(region=reg), color='darkorange', lw=2)\n",
    "            bcsdhist = plt.plot(data_by_huc_hist['bcsd'][hydro_var].isel(region=reg).mean('gcm'), color=bcsd_color, lw=3, alpha=0.5)\n",
    "            locaobs = plt.plot(data_by_huc_obs['loca'][hydro_var].isel(region=reg), color='darkblue', lw=2)  \n",
    "            locahist = plt.plot(data_by_huc_hist['loca'][hydro_var].isel(region=reg).mean('gcm'), color=loca_color, lw=3, alpha=0.5) \n",
    "            \n",
    "            if i == 0:\n",
    "                lineorder = ['Maurer','BCSD', 'Livneh', 'LOCA']\n",
    "                plt.legend(lineorder, fontsize=12) \n",
    "            \n",
    "        if i == 0:\n",
    "            title = names[scen]\n",
    "            plt.title(title, fontsize=24, y=1.03)\n",
    "            \n",
    "        if j == 0:\n",
    "            plt.ylabel(f'HUC {region[i] + 1} (mm)', fontsize=18)  #TODO write out huc number.  this works, BUT could be better.\n",
    "        \n",
    "        plt.xticks(size = 18)\n",
    "        plt.yticks(size = 14)\n",
    "\n",
    "            \n",
    "    joint_ax_lims(axes[i, :2])\n",
    "\n",
    "    \n",
    "add_month_lables(axes[-1, :])\n",
    "\n",
    "\n",
    "# fig.suptitle(maintitle[hydro_var], fontsize=36, y=0.94)\n",
    "            \n",
    "        \n",
    "plt.savefig(f'/glade/u/home/jvano/workdir/loca_figs/huc02_{figname}.png', dpi=300, bbox_inches='tight')"
   ]
  },
  {
   "cell_type": "code",
   "execution_count": 22,
   "metadata": {},
   "outputs": [
    {
     "data": {
      "text/plain": [
       "'Future - Historical'"
      ]
     },
     "execution_count": 22,
     "metadata": {},
     "output_type": "execute_result"
    }
   ],
   "source": [
    "title"
   ]
  },
  {
   "cell_type": "code",
   "execution_count": null,
   "metadata": {},
   "outputs": [],
   "source": [
    "hist_data['bcsd']['ET'].isel(time=0, gcm=1).plot()"
   ]
  },
  {
   "cell_type": "code",
   "execution_count": null,
   "metadata": {},
   "outputs": [],
   "source": [
    "# loca = hist_data['loca'].isel()"
   ]
  }
 ],
 "metadata": {
  "kernelspec": {
   "display_name": "Python [conda env:miniconda-loca]",
   "language": "python",
   "name": "conda-env-miniconda-loca-py"
  },
  "language_info": {
   "codemirror_mode": {
    "name": "ipython",
    "version": 3
   },
   "file_extension": ".py",
   "mimetype": "text/x-python",
   "name": "python",
   "nbconvert_exporter": "python",
   "pygments_lexer": "ipython3",
   "version": "3.6.7"
  }
 },
 "nbformat": 4,
 "nbformat_minor": 4
}
