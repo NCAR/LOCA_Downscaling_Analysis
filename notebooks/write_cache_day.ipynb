{
 "cells": [
  {
   "cell_type": "markdown",
   "metadata": {},
   "source": [
    "## To generate files for plotting annual max, wetday fraction +\n",
    "(variables generated with daily flow values)\n",
    "\n",
    "TODO Still getting it to read in obs for hydrology"
   ]
  },
  {
   "cell_type": "code",
   "execution_count": 1,
   "metadata": {},
   "outputs": [
    {
     "name": "stdout",
     "output_type": "stream",
     "text": [
      "Last executed: 2019-08-19 23:29:44.015988 by jvano on casper19\n"
     ]
    }
   ],
   "source": [
    "from loca import print_date\n",
    "print_date()"
   ]
  },
  {
   "cell_type": "code",
   "execution_count": 2,
   "metadata": {},
   "outputs": [],
   "source": [
    "%matplotlib inline\n",
    "\n",
    "%load_ext autoreload\n",
    "%autoreload 2\n",
    "\n",
    "import os\n",
    "import matplotlib.pyplot as plt\n",
    "\n",
    "import xarray as xr\n",
    "\n",
    "from loca.data_catalog import load_daily_cmip_met_datasets, load_daily_historical_hydro_datasets\n",
    "from loca.data_catalog import load_daily_cmip_hydro_datasets\n",
    "from loca.data_catalog import load_daily_maurer_meteorology, load_daily_livneh_meteorology, load_daily_livneh_hydrology, load_daily_maurer_hydrology\n",
    "\n",
    "\n",
    "# models = ['ACCESS1-0', 'CanESM2', 'CCSM4', 'CNRM-CM5', 'MIROC5', 'MRI-CGCM3', 'NorESM1-M']\n",
    "\n",
    "# all 25:\n",
    "# models = ['ACCESS1-0', 'CanESM2', 'MIROC5', 'MRI-CGCM3', 'bcc-csm1-1', 'bcc-csm1-1-m', 'CCSM4',\n",
    "#           'CESM1-BGC', 'CMCC-CM', 'GISS-E2-R', 'HadGEM2-CC', 'HadGEM2-ES', 'inmcm4', 'IPSL-CM5A-MR',\n",
    "#           'MIROC-ESM', 'MIROC-ESM-CHEM', 'MPI-ESM-LR', 'MPI-ESM-MR', 'NorESM1-M', 'GFDL-ESM2G', \n",
    "#           'CNRM-CM5', 'CSIRO-Mk3-6-0', 'GFDL-ESM2M','GFDL-CM3', 'HadGEM2-AO']\n",
    "\n",
    "models = ['CNRM-CM5']\n",
    "\n",
    "hydro_met = 'hydro'  #or met"
   ]
  },
  {
   "cell_type": "code",
   "execution_count": 30,
   "metadata": {},
   "outputs": [],
   "source": [
    "# client.restart()"
   ]
  },
  {
   "cell_type": "code",
   "execution_count": 3,
   "metadata": {},
   "outputs": [
    {
     "data": {
      "text/html": [
       "<table style=\"border: 2px solid white;\">\n",
       "<tr>\n",
       "<td style=\"vertical-align: top; border: 0px solid white\">\n",
       "<h3>Client</h3>\n",
       "<ul>\n",
       "  <li><b>Scheduler: </b>tcp://128.117.181.225:36466\n",
       "  <li><b>Dashboard: </b><a href='proxy/8787/status' target='_blank'>proxy/8787/status</a>\n",
       "</ul>\n",
       "</td>\n",
       "<td style=\"vertical-align: top; border: 0px solid white\">\n",
       "<h3>Cluster</h3>\n",
       "<ul>\n",
       "  <li><b>Workers: </b>2</li>\n",
       "  <li><b>Cores: </b>4</li>\n",
       "  <li><b>Memory: </b>40.00 GB</li>\n",
       "</ul>\n",
       "</td>\n",
       "</tr>\n",
       "</table>"
      ],
      "text/plain": [
       "<Client: scheduler='tcp://128.117.181.225:36466' processes=2 cores=4>"
      ]
     },
     "execution_count": 3,
     "metadata": {},
     "output_type": "execute_result"
    }
   ],
   "source": [
    "from dask.distributed import Client\n",
    "client = Client(scheduler_file=os.path.join(os.environ['HOME'], 'scheduler_file.json'))\n",
    "client"
   ]
  },
  {
   "cell_type": "code",
   "execution_count": 4,
   "metadata": {},
   "outputs": [],
   "source": [
    "def mean_max_precip(da):\n",
    "    return da.resample(time='AS').max('time').mean('time')\n",
    "\n",
    "def wet_day_fraction(da, thresh=0):\n",
    "    nwet = da.where(da > thresh).count(dim=\"time\")\n",
    "    nday = da.sizes['time']\n",
    "    return nwet / nday"
   ]
  },
  {
   "cell_type": "code",
   "execution_count": 5,
   "metadata": {},
   "outputs": [],
   "source": [
    "def calc_and_write_stats(data, scen='hist'):\n",
    "    if scen == 'hist':\n",
    "        times = slice('1970', '1999')\n",
    "# TO DO:  tried to add this, but it somehow gets called even when not obs (worked fine for obs, but then caused gcm runs to fail), did own obs call below for now.\n",
    "# once joe back, can fix it.\n",
    "#     elif 'obs' in scen: \n",
    "#         times = slice('1970', '1999')\n",
    "#         if method == 'bcsd':\n",
    "#             model = 'maurer'\n",
    "#         elif 'loca' in method:\n",
    "#             model = 'livneh'\n",
    "    elif 'rcp' in scen:\n",
    "        times = slice('2070', '2099')\n",
    "    else:\n",
    "        raise ValueError(period)\n",
    "    try:\n",
    "        da = data.sel(time=times).mean('time').load()\n",
    "        da.to_netcdf(f'/glade/u/home/jvano/workdir/stats/mean_{hydro_met}_{method}_{scen}_{model}.nc')\n",
    "    except:\n",
    "        print('failed mean')\n",
    "    \n",
    "    try:\n",
    "        da = mean_max_precip(data.sel(time=times)).load()\n",
    "        da.to_netcdf(f'/glade/u/home/jvano/workdir/stats/annmax_{hydro_met}_{method}_{scen}_{model}.nc')\n",
    "    except:\n",
    "        print('failed max')\n",
    "    \n",
    "    try:\n",
    "        da = wet_day_fraction(data.sel(time=times)).load()\n",
    "        da.to_netcdf(f'/glade/u/home/jvano/workdir/stats/wetfrac_{hydro_met}_{method}_{scen}_{model}.nc')\n",
    "    except:\n",
    "        print('failed wdf')\n",
    "        "
   ]
  },
  {
   "cell_type": "code",
   "execution_count": 6,
   "metadata": {},
   "outputs": [],
   "source": [
    "def calc_and_write_stats_obs(data, scen='hist'):\n",
    "    if scen == 'hist':\n",
    "        times = slice('1970', '1999')\n",
    "    elif 'obs' in scen:\n",
    "        times = slice('1970', '1999')\n",
    "        if method == 'bcsd':\n",
    "            model = 'maurer'\n",
    "        elif 'loca' in method:\n",
    "            model = 'livneh'\n",
    "    elif 'rcp' in scen:\n",
    "        times = slice('2070', '2099')\n",
    "    else:\n",
    "        raise ValueError(period)\n",
    "    try:\n",
    "        da = data.sel(time=times).mean('time').load()\n",
    "        da.to_netcdf(f'/glade/u/home/jvano/workdir/stats/mean_{hydro_met}_{method}_{scen}_{model}.nc')\n",
    "    except:\n",
    "        print('failed mean')\n",
    "    \n",
    "    try:\n",
    "        da = mean_max_precip(data.sel(time=times)).load()\n",
    "        da.to_netcdf(f'/glade/u/home/jvano/workdir/stats/annmax_{hydro_met}_{method}_{scen}_{model}.nc')\n",
    "    except:\n",
    "        print('failed max')\n",
    "    \n",
    "    try:\n",
    "        da = wet_day_fraction(data.sel(time=times)).load()\n",
    "        da.to_netcdf(f'/glade/u/home/jvano/workdir/stats/wetfrac_{hydro_met}_{method}_{scen}_{model}.nc')\n",
    "    except:\n",
    "        print('failed wdf')"
   ]
  },
  {
   "cell_type": "code",
   "execution_count": 7,
   "metadata": {},
   "outputs": [],
   "source": [
    "hist_data = {}\n",
    "rcp4_data = {}\n",
    "rcp8_data = {}\n",
    "obs_data = {}"
   ]
  },
  {
   "cell_type": "code",
   "execution_count": 7,
   "metadata": {},
   "outputs": [
    {
     "ename": "NameError",
     "evalue": "name 'da' is not defined",
     "output_type": "error",
     "traceback": [
      "\u001b[0;31m---------------------------------------------------------------------------\u001b[0m",
      "\u001b[0;31mNameError\u001b[0m                                 Traceback (most recent call last)",
      "\u001b[0;32m<ipython-input-7-45599da350f7>\u001b[0m in \u001b[0;36m<module>\u001b[0;34m\u001b[0m\n\u001b[0;32m----> 1\u001b[0;31m \u001b[0mda\u001b[0m\u001b[0;34m.\u001b[0m\u001b[0mplot\u001b[0m\u001b[0;34m(\u001b[0m\u001b[0;34m)\u001b[0m\u001b[0;34m\u001b[0m\u001b[0;34m\u001b[0m\u001b[0m\n\u001b[0m",
      "\u001b[0;31mNameError\u001b[0m: name 'da' is not defined"
     ]
    }
   ],
   "source": [
    "da.plot()"
   ]
  },
  {
   "cell_type": "code",
   "execution_count": 6,
   "metadata": {},
   "outputs": [],
   "source": [
    "# obs_data = load_daily_historical_hydro_datasets(resolution='8th')\n",
    "# load_daily_livneh_hydrology(resolution=resolution,\n",
    "#                                                  **kwargs)"
   ]
  },
  {
   "cell_type": "code",
   "execution_count": 8,
   "metadata": {},
   "outputs": [],
   "source": [
    "pre_obs_data = obs_data\n",
    "\n",
    "# hydro_met = 'hydro'"
   ]
  },
  {
   "cell_type": "code",
   "execution_count": 10,
   "metadata": {},
   "outputs": [
    {
     "name": "stdout",
     "output_type": "stream",
     "text": [
      "load_daily_livneh_hydrology\n",
      "load_daily_maurer_hydrology\n",
      "load_daily_cmip_hydro_datasets\n",
      "load_daily_loca_hydrology\n",
      "load_daily_bcsd_hydrology\n",
      "load_bcsd_dataset\n",
      "load_daily_cmip_hydro_datasets\n",
      "load_daily_loca_hydrology\n",
      "load_daily_bcsd_hydrology\n",
      "load_bcsd_dataset\n",
      "load_daily_cmip_hydro_datasets\n",
      "load_daily_loca_hydrology\n",
      "load_daily_bcsd_hydrology\n",
      "load_bcsd_dataset\n"
     ]
    }
   ],
   "source": [
    "if hydro_met == 'met':\n",
    "    obs_data  = {\"bcsd\": load_daily_maurer_meteorology(resolution='8th'), \"loca\": load_daily_livneh_meteorology(resolution='8th')}\n",
    "    for method in ['bcsd', 'loca']: \n",
    "        calc_and_write_stats_obs(obs_data[method]['pcp'], scen='obs')\n",
    "    for model in models:\n",
    "        hist_data = load_daily_cmip_met_datasets('historical', models=[model], parallel=True)\n",
    "        rcp4_data = load_daily_cmip_met_datasets('rcp45', models=[model], parallel=True)\n",
    "        rcp8_data = load_daily_cmip_met_datasets('rcp85', models=[model], parallel=True)\n",
    "        \n",
    "        for method in ['loca', 'bcsd']:  #TODO make it more than just pcp\n",
    "            calc_and_write_stats(hist_data[method]['pcp'], scen='hist')\n",
    "            calc_and_write_stats(rcp4_data[method]['pcp'], scen='rcp45')\n",
    "            calc_and_write_stats(rcp8_data[method]['pcp'], scen='rcp85')\n",
    "    \n",
    "if hydro_met == 'hydro':\n",
    "    obs_data = {\"loca\": load_daily_livneh_hydrology(resolution='8th'), \"bcsd\": load_daily_maurer_hydrology()}\n",
    "    for method in ['bcsd', 'loca']: \n",
    "        calc_and_write_stats_obs(obs_data[method]['total_runoff'], scen='obs')\n",
    "    for model in models:\n",
    "        hist_data = load_daily_cmip_hydro_datasets('historical', models=[model], parallel=True)\n",
    "        rcp4_data = load_daily_cmip_hydro_datasets('rcp45', models=[model], parallel=True)\n",
    "        rcp8_data = load_daily_cmip_hydro_datasets('rcp85', models=[model], parallel=True)\n",
    "#         hist_data_obs = load_daily_historical_hydro_datasets('historical', models=[model], parallel=True)\n",
    "        \n",
    "        for method in ['loca', 'bcsd']:  \n",
    "            calc_and_write_stats(hist_data[method]['total_runoff'], scen='hist')\n",
    "            calc_and_write_stats(rcp4_data[method]['total_runoff'], scen='rcp45')\n",
    "            calc_and_write_stats(rcp8_data[method]['total_runoff'], scen='rcp85')   \n",
    "            \n",
    "#     obs_data = load_daily_historical_hydro_datasets(resolution='8th')"
   ]
  },
  {
   "cell_type": "code",
   "execution_count": 18,
   "metadata": {},
   "outputs": [
    {
     "data": {
      "text/plain": [
       "{'bcsd': <xarray.Dataset>\n",
       " Dimensions:  (lat: 222, lon: 462, time: 18262)\n",
       " Coordinates:\n",
       "   * lat      (lat) float32 25.1875 25.3125 25.4375 ... 52.5625 52.6875 52.8125\n",
       "   * lon      (lon) float32 -124.6875 -124.5625 -124.4375 ... -67.1875 -67.0625\n",
       "   * time     (time) datetime64[ns] 1950-01-01 1950-01-02 ... 1999-12-31\n",
       " Data variables:\n",
       "     pcp      (time, lat, lon) float32 dask.array<shape=(18262, 222, 462), chunksize=(365, 222, 462)>\n",
       "     t_max    (time, lat, lon) float32 dask.array<shape=(18262, 222, 462), chunksize=(365, 222, 462)>\n",
       "     t_min    (time, lat, lon) float32 dask.array<shape=(18262, 222, 462), chunksize=(365, 222, 462)>\n",
       "     Wind     (time, lat, lon) float32 dask.array<shape=(18262, 222, 462), chunksize=(365, 222, 462)>\n",
       "     t_mean   (time, lat, lon) float32 dask.array<shape=(18262, 222, 462), chunksize=(365, 222, 462)>\n",
       " Attributes:\n",
       "     Conventions:  CF-1.0, 'loca': <xarray.Dataset>\n",
       " Dimensions:  (lat: 224, lon: 464, time: 23376)\n",
       " Coordinates:\n",
       "   * time     (time) datetime64[ns] 1950-01-01 1950-01-02 ... 2013-12-31\n",
       "   * lon      (lon) float64 -124.9 -124.8 -124.7 -124.6 ... -67.31 -67.19 -67.06\n",
       "   * lat      (lat) float64 25.06 25.19 25.31 25.44 ... 52.56 52.69 52.81 52.94\n",
       " Data variables:\n",
       "     t_mean   (time, lat, lon) float32 dask.array<shape=(23376, 224, 464), chunksize=(31, 224, 464)>\n",
       "     pcp      (time, lat, lon) float32 dask.array<shape=(23376, 224, 464), chunksize=(31, 224, 464)>\n",
       " Attributes:\n",
       "     CDI:                       Climate Data Interface version 1.9.4 (http://m...\n",
       "     Conventions:               CF-1.4\n",
       "     history:                   Mon Sep 17 15:07:20 2018: cdo -O remapcon,/gla...\n",
       "     nco_openmp_thread_number:  1\n",
       "     NCO:                       4.4.5\n",
       "     CDO:                       Climate Data Operators version 1.9.4 (http://m...}"
      ]
     },
     "execution_count": 18,
     "metadata": {},
     "output_type": "execute_result"
    }
   ],
   "source": [
    "obs_data"
   ]
  },
  {
   "cell_type": "code",
   "execution_count": 25,
   "metadata": {},
   "outputs": [],
   "source": [
    "# DON'T USE WITH LOCA/BCSD ANALYSIS\n",
    "\n",
    "wrf_gcm_map = {'ACCESS1-0': 'access13', 'CanESM2': 'canesm', 'CCSM4': 'cesm', 'CNRM-CM5': 'cnrm', 'MIROC5': 'miroc5', 'MRI-CGCM3': 'mri', 'NorESM1-M': 'noresm'}\n",
    "\n",
    "def load_daily_icar_datasets(scen, models=None, **kwargs):\n",
    "    \n",
    "    fname = '/glade/p/ral/hap/trude/conus_icar/qm_data/{gcm}_{scen}_exl_conv.nc'\n",
    "    fnames = [fname.format(gcm=wrf_gcm_map[gcm], scen=scen) for gcm in models]\n",
    "    ds = xr.open_mfdataset(fnames, **kwargs)\n",
    "    \n",
    "    return ds\n",
    "\n",
    "configs = ['AR_p', 'AR_puv', 'AR_uvq', 'PA_p', 'PA_puv', 'PA_uvq', 'PR_p', 'PR_puv', 'PR_uvq', 'PT_p']\n",
    "def load_daily_gard_gutmann_datasets(scen, models=None, configs=None, **kwargs):\n",
    "    \n",
    "    fname = '/glade/u/home/gutmann/work/gard/paper_data/processed/gard_{gcm}_{scen}_{config}.nc'\n",
    "    \n",
    "    ds_list = []\n",
    "    for config in configs:\n",
    "        fnames = [fname.format(gcm=wrf_gcm_map[gcm], scen=scen, config=config) for gcm in models]\n",
    "        ds_list.append(xr.open_mfdataset(fnames, **kwargs))\n",
    "        \n",
    "    return xr.concat(ds_list, dim=xr.Variable('config', configs)) "
   ]
  },
  {
   "cell_type": "code",
   "execution_count": 21,
   "metadata": {},
   "outputs": [
    {
     "name": "stdout",
     "output_type": "stream",
     "text": [
      "/glade/u/home/jhamman/workdir/stats/mean_icar_hist_ACCESS1-0.nc\n",
      "/glade/u/home/jhamman/workdir/stats/mean_icar_rcp45_ACCESS1-0.nc\n",
      "/glade/u/home/jhamman/workdir/stats/mean_icar_rcp85_ACCESS1-0.nc\n",
      "/glade/u/home/jhamman/workdir/stats/mean_icar_hist_CanESM2.nc\n",
      "/glade/u/home/jhamman/workdir/stats/mean_icar_rcp45_CanESM2.nc\n",
      "/glade/u/home/jhamman/workdir/stats/mean_icar_rcp85_CanESM2.nc\n",
      "/glade/u/home/jhamman/workdir/stats/mean_icar_hist_CCSM4.nc\n",
      "/glade/u/home/jhamman/workdir/stats/mean_icar_rcp45_CCSM4.nc\n",
      "/glade/u/home/jhamman/workdir/stats/mean_icar_rcp85_CCSM4.nc\n",
      "/glade/u/home/jhamman/workdir/stats/mean_icar_hist_CNRM-CM5.nc\n",
      "/glade/u/home/jhamman/workdir/stats/mean_icar_rcp45_CNRM-CM5.nc\n",
      "/glade/u/home/jhamman/workdir/stats/mean_icar_rcp85_CNRM-CM5.nc\n",
      "/glade/u/home/jhamman/workdir/stats/mean_icar_hist_MIROC5.nc\n",
      "/glade/u/home/jhamman/workdir/stats/mean_icar_rcp45_MIROC5.nc\n",
      "/glade/u/home/jhamman/workdir/stats/mean_icar_rcp85_MIROC5.nc\n",
      "/glade/u/home/jhamman/workdir/stats/mean_icar_hist_MRI-CGCM3.nc\n",
      "/glade/u/home/jhamman/workdir/stats/mean_icar_rcp45_MRI-CGCM3.nc\n",
      "/glade/u/home/jhamman/workdir/stats/mean_icar_rcp85_MRI-CGCM3.nc\n",
      "/glade/u/home/jhamman/workdir/stats/mean_icar_hist_NorESM1-M.nc\n",
      "/glade/u/home/jhamman/workdir/stats/mean_icar_rcp45_NorESM1-M.nc\n",
      "/glade/u/home/jhamman/workdir/stats/mean_icar_rcp85_NorESM1-M.nc\n"
     ]
    }
   ],
   "source": [
    "# DON'T USE WITH LOCA/BCSD ANALYSIS\n",
    "\n",
    "method = 'icar'\n",
    "chunks = {'time': 183}\n",
    "for model in models:\n",
    "    hist_data[method] = load_daily_icar_datasets('hist', models=[model], chunks=chunks)\n",
    "    rcp4_data[method] = load_daily_icar_datasets('rcp45', models=[model], chunks=chunks)\n",
    "    rcp8_data[method] = load_daily_icar_datasets('rcp85', models=[model], chunks=chunks)\n",
    "    \n",
    "    calc_and_write_stats(hist_data[method]['pcp'], scen='hist')\n",
    "    calc_and_write_stats(rcp4_data[method]['pcp'], scen='rcp45')\n",
    "    calc_and_write_stats(rcp8_data[method]['pcp'], scen='rcp85')"
   ]
  },
  {
   "cell_type": "code",
   "execution_count": 35,
   "metadata": {},
   "outputs": [
    {
     "name": "stdout",
     "output_type": "stream",
     "text": [
      "/glade/u/home/jhamman/workdir/stats/mean_gard_hist_ACCESS1-0.nc\n",
      "/glade/u/home/jhamman/workdir/stats/mean_gard_rcp85_ACCESS1-0.nc\n",
      "failed mean\n",
      "failed max\n",
      "failed wdf\n",
      "/glade/u/home/jhamman/workdir/stats/mean_gard_rcp85_CanESM2.nc\n",
      "/glade/u/home/jhamman/workdir/stats/mean_gard_hist_CCSM4.nc\n",
      "/glade/u/home/jhamman/workdir/stats/mean_gard_rcp85_CCSM4.nc\n",
      "model failed\n",
      "/glade/u/home/jhamman/workdir/stats/mean_gard_hist_MIROC5.nc\n",
      "/glade/u/home/jhamman/workdir/stats/mean_gard_rcp85_MIROC5.nc\n",
      "/glade/u/home/jhamman/workdir/stats/mean_gard_hist_MRI-CGCM3.nc\n",
      "/glade/u/home/jhamman/workdir/stats/mean_gard_rcp85_MRI-CGCM3.nc\n",
      "/glade/u/home/jhamman/workdir/stats/mean_gard_hist_NorESM1-M.nc\n",
      "/glade/u/home/jhamman/workdir/stats/mean_gard_rcp85_NorESM1-M.nc\n"
     ]
    }
   ],
   "source": [
    "# DON'T USE WITH LOCA/BCSD ANALYSIS\n",
    "\n",
    "wrf_gcm_map = {'ACCESS1-0': 'access13', 'CanESM2': 'canesm', 'CCSM4': 'ccsm4', 'CNRM-CM5': 'cnrm', 'MIROC5': 'miroc5', 'MRI-CGCM3': 'mri', 'NorESM1-M': 'noresm'}\n",
    "gcms = ['ACCESS1-0', 'MIROC5', 'MRI-CGCM3', 'NorESM1-M', ]\n",
    "# 'CNRM-CM5', 'CanESM2' # broken in GARD\n",
    "\n",
    "method = 'gard'\n",
    "chunks = {'time': 183}\n",
    "for model in models:\n",
    "    try:\n",
    "        hist_data[method] = load_daily_gard_gutmann_datasets('hist', models=[model], configs=configs, chunks=chunks)\n",
    "        rcp8_data[method] = load_daily_gard_gutmann_datasets('rcp85', models=[model], configs=configs, chunks=chunks)\n",
    "    except FileNotFoundError:\n",
    "        print('model failed')\n",
    "        continue\n",
    "    calc_and_write_stats(hist_data[method]['pcp'], scen='hist')\n",
    "    calc_and_write_stats(rcp8_data[method]['pcp'], scen='rcp85')"
   ]
  },
  {
   "cell_type": "code",
   "execution_count": 28,
   "metadata": {},
   "outputs": [
    {
     "data": {
      "text/plain": [
       "{'icar': <xarray.Dataset>\n",
       " Dimensions:    (lat: 224, lon: 464, time: 20073)\n",
       " Coordinates:\n",
       "   * time       (time) datetime64[ns] 1951-01-02T23:00:00 ... 2005-12-30T23:00:00\n",
       "   * lat        (lat) float64 25.06 25.19 25.31 25.44 ... 52.56 52.69 52.81 52.94\n",
       "   * lon        (lon) float64 -124.9 -124.8 -124.7 ... -67.31 -67.19 -67.06\n",
       " Data variables:\n",
       "     pcp        (time, lat, lon) float32 dask.array<shape=(20073, 224, 464), chunksize=(183, 224, 464)>\n",
       "     t_mean     (time, lat, lon) float32 dask.array<shape=(20073, 224, 464), chunksize=(183, 224, 464)>\n",
       "     t_range    (time, lat, lon) float32 dask.array<shape=(20073, 224, 464), chunksize=(183, 224, 464)>\n",
       "     elevation  (lat, lon) float64 dask.array<shape=(224, 464), chunksize=(224, 464)>\n",
       "     mask       (lat, lon) int64 dask.array<shape=(224, 464), chunksize=(224, 464)>\n",
       "     t_max      (time, lat, lon) float32 dask.array<shape=(20073, 224, 464), chunksize=(183, 224, 464)>\n",
       "     t_min      (time, lat, lon) float32 dask.array<shape=(20073, 224, 464), chunksize=(183, 224, 464)>\n",
       " Attributes:\n",
       "     history:      Created: Wed Oct 25 13:05:38 2017\n",
       "     institution:  National Center for Atmospheric Research\n",
       "     source:       /glade/u/home/jhamman/projects/storylines/src/storylines/st...\n",
       "     Conventions:  CF-1.6\n",
       "     hostname:     geyser03\n",
       "     username:     jhamman\n",
       "     title:        Quantile mapped downscaled dataset, 'gard': <xarray.Dataset>\n",
       " Dimensions:  (config: 1, time: 10957, x: 464, y: 224)\n",
       " Coordinates:\n",
       "   * time     (time) datetime64[ns] 1970-01-01T11:31:10.312499968 ... 1999-12-31T11:29:03.750000128\n",
       "     lat      (y, x) float32 25.0625 25.0625 25.0625 ... 52.9375 52.9375 52.9375\n",
       "     lon      (y, x) float32 235.0625 235.1875 235.3125 ... 292.8125 292.9375\n",
       "   * config   (config) <U4 'AR_p'\n",
       " Dimensions without coordinates: x, y\n",
       " Data variables:\n",
       "     pcp      (config, time, y, x) float32 dask.array<shape=(1, 10957, 224, 464), chunksize=(1, 183, 224, 464)>}"
      ]
     },
     "execution_count": 28,
     "metadata": {},
     "output_type": "execute_result"
    }
   ],
   "source": [
    "hist_data"
   ]
  },
  {
   "cell_type": "code",
   "execution_count": null,
   "metadata": {},
   "outputs": [],
   "source": []
  }
 ],
 "metadata": {
  "kernelspec": {
   "display_name": "Python [conda env:miniconda-loca]",
   "language": "python",
   "name": "conda-env-miniconda-loca-py"
  },
  "language_info": {
   "codemirror_mode": {
    "name": "ipython",
    "version": 3
   },
   "file_extension": ".py",
   "mimetype": "text/x-python",
   "name": "python",
   "nbconvert_exporter": "python",
   "pygments_lexer": "ipython3",
   "version": "3.6.7"
  }
 },
 "nbformat": 4,
 "nbformat_minor": 4
}
